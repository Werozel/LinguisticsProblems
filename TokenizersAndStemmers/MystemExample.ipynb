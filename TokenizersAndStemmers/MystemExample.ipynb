{
 "cells": [
  {
   "cell_type": "code",
   "execution_count": 11,
   "outputs": [],
   "source": [
    "sentences = [\"On a $50,000 mortgage of 30 years at 8 percent, the monthly payment would be $366.88.\",\n",
    "             \"\\\"We beat some pretty good teams to get here,\\\" Slocum said.\",\n",
    "             \"Well, we couldn't have this predictable, cliche-ridden,\\\"Touched by an Angel\\\" (a show creator John Masius worked on) wanna-be if she didn't.\",\n",
    "             \"I cannot work under these conditions!\",\n",
    "             \"The company spent $30,000,000 last year.\",\n",
    "             \"The company spent 40.75% of its income last year.\",\n",
    "             \"He arrived at 3:00 pm.\",\n",
    "             \"I bought these items: books, pencils, and pens.\",\n",
    "             \"Though there were 150, 100 of them were old.\",\n",
    "             \"There were 300,000, but that wasn't enough.\",\n",
    "             \"Good muffins cost $3.88\\nin New York. Please buy me\\ntwo of them.\\n\\nThanks.\",\n",
    "             \"Alas, it has not rained today. When, do you think, will it rain again?\",\n",
    "             \"<p>Although this is <b>not</b> the case here, we must not relax our vigilance!</p>\"]\n",
    "text = \" \".join(sentences)"
   ],
   "metadata": {
    "collapsed": false,
    "pycharm": {
     "name": "#%%\n"
    }
   }
  },
  {
   "cell_type": "code",
   "execution_count": 12,
   "metadata": {
    "collapsed": true
   },
   "outputs": [],
   "source": [
    "from pymystem3 import Mystem\n",
    "mystem = Mystem()"
   ]
  },
  {
   "cell_type": "code",
   "execution_count": 13,
   "outputs": [
    {
     "data": {
      "text/plain": "['On',\n ' ',\n 'a',\n ' ',\n '$',\n '50',\n ',',\n '000',\n ' ',\n 'mortgage',\n ' ',\n 'of',\n ' ',\n '30',\n ' ',\n 'years',\n ' ',\n 'at',\n ' ',\n '8',\n ' ',\n 'percent',\n ', ',\n 'the',\n ' ',\n 'monthly',\n ' ',\n 'payment',\n ' ',\n 'would',\n ' ',\n 'be',\n ' ',\n '$',\n '366.88',\n '. ',\n '\"',\n 'We',\n ' ',\n 'beat',\n ' ',\n 'some',\n ' ',\n 'pretty',\n ' ',\n 'good',\n ' ',\n 'teams',\n ' ',\n 'to',\n ' ',\n 'get',\n ' ',\n 'here',\n ',\" ',\n 'Slocum',\n ' ',\n 'said',\n '. ',\n 'Well',\n ', ',\n 'we',\n ' ',\n 'couldn',\n \"'\",\n 't',\n ' ',\n 'have',\n ' ',\n 'this',\n ' ',\n 'predictable',\n ', ',\n 'cliche',\n '-',\n 'ridden',\n ',\"',\n 'Touched',\n ' ',\n 'by',\n ' ',\n 'an',\n ' ',\n 'Angel',\n '\" (',\n 'a',\n ' ',\n 'show',\n ' ',\n 'creator',\n ' ',\n 'John',\n ' ',\n 'Masius',\n ' ',\n 'worked',\n ' ',\n 'on',\n ') ',\n 'wanna',\n '-',\n 'be',\n ' ',\n 'if',\n ' ',\n 'she',\n ' ',\n 'didn',\n \"'\",\n 't',\n '. ',\n 'I',\n ' ',\n 'cannot',\n ' ',\n 'work',\n ' ',\n 'under',\n ' ',\n 'these',\n ' ',\n 'conditions',\n '! ',\n 'The',\n ' ',\n 'company',\n ' ',\n 'spent',\n ' ',\n '$',\n '30',\n ',',\n '000',\n ',',\n '000',\n ' ',\n 'last',\n ' ',\n 'year',\n '. ',\n 'The',\n ' ',\n 'company',\n ' ',\n 'spent',\n ' ',\n '40.75',\n '% ',\n 'of',\n ' ',\n 'its',\n ' ',\n 'income',\n ' ',\n 'last',\n ' ',\n 'year',\n '. ',\n 'He',\n ' ',\n 'arrived',\n ' ',\n 'at',\n ' ',\n '3',\n ':',\n '00',\n ' ',\n 'pm',\n '. ',\n 'I',\n ' ',\n 'bought',\n ' ',\n 'these',\n ' ',\n 'items',\n ': ',\n 'books',\n ', ',\n 'pencils',\n ', ',\n 'and',\n ' ',\n 'pens',\n '. ',\n 'Though',\n ' ',\n 'there',\n ' ',\n 'were',\n ' ',\n '150',\n ', ',\n '100',\n ' ',\n 'of',\n ' ',\n 'them',\n ' ',\n 'were',\n ' ',\n 'old',\n '. ',\n 'There',\n ' ',\n 'were',\n ' ',\n '300',\n ',',\n '000',\n ', ',\n 'but',\n ' ',\n 'that',\n ' ',\n 'wasn',\n \"'\",\n 't',\n ' ',\n 'enough',\n '. ',\n 'Good',\n ' ',\n 'muffins',\n ' ',\n 'cost',\n ' ',\n '$',\n '3.88',\n '\\n',\n 'in',\n ' ',\n 'New',\n ' ',\n 'York',\n '. ',\n 'Please',\n ' ',\n 'buy',\n ' ',\n 'me',\n '\\n',\n 'two',\n ' ',\n 'of',\n ' ',\n 'them',\n '.',\n '\\n',\n '\\n',\n 'Thanks',\n '. ',\n 'Alas',\n ', ',\n 'it',\n ' ',\n 'has',\n ' ',\n 'not',\n ' ',\n 'rained',\n ' ',\n 'today',\n '. ',\n 'When',\n ', ',\n 'do',\n ' ',\n 'you',\n ' ',\n 'think',\n ', ',\n 'will',\n ' ',\n 'it',\n ' ',\n 'rain',\n ' ',\n 'again',\n '?',\n ' <',\n 'p',\n '>',\n 'Although',\n ' ',\n 'this',\n ' ',\n 'is',\n ' <',\n 'b',\n '>',\n 'not',\n '</',\n 'b',\n '> ',\n 'the',\n ' ',\n 'case',\n ' ',\n 'here',\n ', ',\n 'we',\n ' ',\n 'must',\n ' ',\n 'not',\n ' ',\n 'relax',\n ' ',\n 'our',\n ' ',\n 'vigilance',\n '!',\n '</',\n 'p',\n '>\\n']"
     },
     "execution_count": 13,
     "metadata": {},
     "output_type": "execute_result"
    }
   ],
   "source": [
    "raw_lemmas = mystem.lemmatize(text)\n",
    "raw_lemmas"
   ],
   "metadata": {
    "collapsed": false,
    "pycharm": {
     "name": "#%%\n"
    }
   }
  },
  {
   "cell_type": "code",
   "execution_count": 14,
   "outputs": [],
   "source": [
    "def has_letters(s: str):\n",
    "    return any(str(c).isalpha() for c in s)"
   ],
   "metadata": {
    "collapsed": false,
    "pycharm": {
     "name": "#%%\n"
    }
   }
  },
  {
   "cell_type": "code",
   "execution_count": 15,
   "outputs": [
    {
     "data": {
      "text/plain": "['On',\n 'a',\n 'mortgage',\n 'of',\n 'years',\n 'at',\n 'percent',\n 'the',\n 'monthly',\n 'payment',\n 'would',\n 'be',\n 'We',\n 'beat',\n 'some',\n 'pretty',\n 'good',\n 'teams',\n 'to',\n 'get',\n 'here',\n 'Slocum',\n 'said',\n 'Well',\n 'we',\n 'couldn',\n 't',\n 'have',\n 'this',\n 'predictable',\n 'cliche',\n 'ridden',\n 'Touched',\n 'by',\n 'an',\n 'Angel',\n 'a',\n 'show',\n 'creator',\n 'John',\n 'Masius',\n 'worked',\n 'on',\n 'wanna',\n 'be',\n 'if',\n 'she',\n 'didn',\n 't',\n 'I',\n 'cannot',\n 'work',\n 'under',\n 'these',\n 'conditions',\n 'The',\n 'company',\n 'spent',\n 'last',\n 'year',\n 'The',\n 'company',\n 'spent',\n 'of',\n 'its',\n 'income',\n 'last',\n 'year',\n 'He',\n 'arrived',\n 'at',\n 'pm',\n 'I',\n 'bought',\n 'these',\n 'items',\n 'books',\n 'pencils',\n 'and',\n 'pens',\n 'Though',\n 'there',\n 'were',\n 'of',\n 'them',\n 'were',\n 'old',\n 'There',\n 'were',\n 'but',\n 'that',\n 'wasn',\n 't',\n 'enough',\n 'Good',\n 'muffins',\n 'cost',\n 'in',\n 'New',\n 'York',\n 'Please',\n 'buy',\n 'me',\n 'two',\n 'of',\n 'them',\n 'Thanks',\n 'Alas',\n 'it',\n 'has',\n 'not',\n 'rained',\n 'today',\n 'When',\n 'do',\n 'you',\n 'think',\n 'will',\n 'it',\n 'rain',\n 'again',\n 'p',\n 'Although',\n 'this',\n 'is',\n 'b',\n 'not',\n 'b',\n 'the',\n 'case',\n 'here',\n 'we',\n 'must',\n 'not',\n 'relax',\n 'our',\n 'vigilance',\n 'p']"
     },
     "execution_count": 15,
     "metadata": {},
     "output_type": "execute_result"
    }
   ],
   "source": [
    "words_lemmas = list(\n",
    "    filter(\n",
    "        lambda x: has_letters(x),\n",
    "        raw_lemmas\n",
    "    )\n",
    ")\n",
    "words_lemmas"
   ],
   "metadata": {
    "collapsed": false,
    "pycharm": {
     "name": "#%%\n"
    }
   }
  },
  {
   "cell_type": "code",
   "execution_count": 15,
   "outputs": [],
   "source": [],
   "metadata": {
    "collapsed": false,
    "pycharm": {
     "name": "#%%\n"
    }
   }
  }
 ],
 "metadata": {
  "kernelspec": {
   "display_name": "Python 3",
   "language": "python",
   "name": "python3"
  },
  "language_info": {
   "codemirror_mode": {
    "name": "ipython",
    "version": 2
   },
   "file_extension": ".py",
   "mimetype": "text/x-python",
   "name": "python",
   "nbconvert_exporter": "python",
   "pygments_lexer": "ipython2",
   "version": "2.7.6"
  }
 },
 "nbformat": 4,
 "nbformat_minor": 0
}