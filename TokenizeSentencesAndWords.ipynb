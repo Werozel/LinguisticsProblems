{
 "cells": [
  {
   "cell_type": "code",
   "execution_count": 24,
   "outputs": [],
   "source": [
    "sentences = [\"On a $50,000 mortgage of 30 years at 8 percent, the monthly payment would be $366.88.\",\n",
    "             \"\\\"We beat some pretty good teams to get here,\\\" Slocum said.\",\n",
    "             \"Well, we couldn't have this predictable, cliche-ridden,\\\"Touched by an Angel\\\" (a show creator John Masius worked on) wanna-be if she didn't.\",\n",
    "             \"I cannot work under these conditions!\",\n",
    "             \"The company spent $30,000,000 last year.\",\n",
    "             \"The company spent 40.75% of its income last year.\",\n",
    "             \"He arrived at 3:00 pm.\",\n",
    "             \"I bought these items: books, pencils, and pens.\",\n",
    "             \"Though there were 150, 100 of them were old.\",\n",
    "             \"There were 300,000, but that wasn't enough.\",\n",
    "             \"Good muffins cost $3.88\\nin New York. Please buy me\\ntwo of them.\\n\\nThanks.\",\n",
    "             \"Alas, it has not rained today. When, do you think, will it rain again?\",\n",
    "             \"<p>Although this is <b>not</b> the case here, we must not relax our vigilance!</p>\"]\n",
    "text = \" \".join(sentences)"
   ],
   "metadata": {
    "collapsed": false,
    "pycharm": {
     "name": "#%%\n"
    }
   }
  },
  {
   "cell_type": "markdown",
   "source": [
    "### Sentence tokenizer"
   ],
   "metadata": {
    "collapsed": false
   }
  },
  {
   "cell_type": "code",
   "execution_count": 25,
   "outputs": [
    {
     "data": {
      "text/plain": "['On a $50,000 mortgage of 30 years at 8 percent, the monthly payment would be $366.88',\n '\"We beat some pretty good teams to get here,\" Slocum said',\n 'Well, we couldn\\'t have this predictable, cliche-ridden,\"Touched by an Angel\" (a show creator John Masius worked on) wanna-be if she didn\\'t',\n 'I cannot work under these conditions',\n 'The company spent $30,000,000 last year',\n 'The company spent 40.75% of its income last year',\n 'He arrived at 3:00 pm',\n 'I bought these items: books, pencils, and pens',\n 'Though there were 150, 100 of them were old',\n \"There were 300,000, but that wasn't enough\",\n 'Good muffins cost $3.88\\nin New York',\n 'Please buy me\\ntwo of them',\n '\\nThanks',\n 'Alas, it has not rained today',\n 'When, do you think, will it rain again',\n '<p>Although this is <b>not</b> the case here, we must not relax our vigilance!</p>']"
     },
     "execution_count": 25,
     "metadata": {},
     "output_type": "execute_result"
    }
   ],
   "source": [
    "from nltk import tokenize\n",
    "\n",
    "sentences = tokenize.regexp_tokenize(text, r'[\\.\\?!]\\s', gaps=True)\n",
    "sentences"
   ],
   "metadata": {
    "collapsed": false,
    "pycharm": {
     "name": "#%%\n"
    }
   }
  },
  {
   "cell_type": "markdown",
   "source": [
    "### Words tokenize"
   ],
   "metadata": {
    "collapsed": false
   }
  },
  {
   "cell_type": "code",
   "execution_count": 27,
   "outputs": [
    {
     "data": {
      "text/plain": "['On',\n 'a',\n '50',\n '000',\n 'mortgage',\n 'of',\n '30',\n 'years',\n 'at',\n '8',\n 'percent',\n 'the',\n 'monthly',\n 'payment',\n 'would',\n 'be',\n '366',\n '88',\n 'We',\n 'beat',\n 'some',\n 'pretty',\n 'good',\n 'teams',\n 'to',\n 'get',\n 'here',\n 'Slocum',\n 'said',\n 'Well',\n 'we',\n \"couldn't\",\n 'have',\n 'this',\n 'predictable',\n 'cliche',\n 'ridden',\n 'Touched',\n 'by',\n 'an',\n 'Angel',\n 'a',\n 'show',\n 'creator',\n 'John',\n 'Masius',\n 'worked',\n 'on',\n 'wanna',\n 'be',\n 'if',\n 'she',\n \"didn't\",\n 'I',\n 'cannot',\n 'work',\n 'under',\n 'these',\n 'conditions',\n 'The',\n 'company',\n 'spent',\n '30',\n '000',\n '000',\n 'last',\n 'year',\n 'The',\n 'company',\n 'spent',\n '40',\n '75',\n 'of',\n 'its',\n 'income',\n 'last',\n 'year',\n 'He',\n 'arrived',\n 'at',\n '3',\n '00',\n 'pm',\n 'I',\n 'bought',\n 'these',\n 'items',\n 'books',\n 'pencils',\n 'and',\n 'pens',\n 'Though',\n 'there',\n 'were',\n '150',\n '100',\n 'of',\n 'them',\n 'were',\n 'old',\n 'There',\n 'were',\n '300',\n '000',\n 'but',\n 'that',\n \"wasn't\",\n 'enough',\n 'Good',\n 'muffins',\n 'cost',\n '3',\n '88',\n 'in',\n 'New',\n 'York',\n 'Please',\n 'buy',\n 'me',\n 'two',\n 'of',\n 'them',\n 'Thanks',\n 'Alas',\n 'it',\n 'has',\n 'not',\n 'rained',\n 'today',\n 'When',\n 'do',\n 'you',\n 'think',\n 'will',\n 'it',\n 'rain',\n 'again',\n 'p',\n 'Although',\n 'this',\n 'is',\n 'b',\n 'not',\n 'b',\n 'the',\n 'case',\n 'here',\n 'we',\n 'must',\n 'not',\n 'relax',\n 'our',\n 'vigilance',\n 'p']"
     },
     "execution_count": 27,
     "metadata": {},
     "output_type": "execute_result"
    }
   ],
   "source": [
    "words = tokenize.regexp_tokenize(text, r'[^\\w\\'+]', gaps=True)\n",
    "words"
   ],
   "metadata": {
    "collapsed": false,
    "pycharm": {
     "name": "#%%\n"
    }
   }
  },
  {
   "cell_type": "code",
   "execution_count": null,
   "outputs": [],
   "source": [],
   "metadata": {
    "collapsed": false,
    "pycharm": {
     "name": "#%%\n"
    }
   }
  }
 ],
 "metadata": {
  "kernelspec": {
   "display_name": "Python 3",
   "language": "python",
   "name": "python3"
  },
  "language_info": {
   "codemirror_mode": {
    "name": "ipython",
    "version": 2
   },
   "file_extension": ".py",
   "mimetype": "text/x-python",
   "name": "python",
   "nbconvert_exporter": "python",
   "pygments_lexer": "ipython2",
   "version": "2.7.6"
  }
 },
 "nbformat": 4,
 "nbformat_minor": 0
}